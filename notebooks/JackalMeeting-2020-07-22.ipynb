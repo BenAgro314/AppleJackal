{
 "cells": [
  {
   "cell_type": "markdown",
   "metadata": {},
   "source": [
    "# 2020-07-23 Progress Report \n",
    "## Contents\n",
    "1. Development of a Dashboard for data wrangling\n",
    "2. Implementation of online classifications into ROS and existing naviation stack\n",
    "3. Preliminary testing of online classifications\n",
    "\n",
    "## Dashboard Development\n",
    "The Dashboard is a python module that allows for the management, analysis and visualization of data gathered from the Myhal Simulation during SLAM testing.\n",
    "### Functionality\n",
    "#### Run Management"
   ]
  },
  {
   "cell_type": "markdown",
   "metadata": {},
   "source": [
    "The user interacts with a `Dashboard()` object:"
   ]
  },
  {
   "cell_type": "code",
   "execution_count": 12,
   "metadata": {},
   "outputs": [
    {
     "name": "stderr",
     "output_type": "stream",
     "text": [
      "INFO - Loading run metadata\n",
      "INFO - Writing to run_data.json\n",
      "INFO - Loaded and updated metadata in 0.00 s\n"
     ]
    }
   ],
   "source": [
    "from src.dashboard import *\n",
    "\n",
    "D = Dashboard()"
   ]
  },
  {
   "cell_type": "markdown",
   "metadata": {},
   "source": [
    "We can list the valid runs present in the experiment folder: ~/raid/Myhal_Simulation/simulated_runs/."
   ]
  },
  {
   "cell_type": "code",
   "execution_count": 13,
   "metadata": {},
   "outputs": [
    {
     "name": "stdout",
     "output_type": "stream",
     "text": [
      "  Index  Name                 Filtering Status    Classification Method    Tour Name    Success Status    Localization Method    Scenarios                  Localization Test\n",
      "-------  -------------------  ------------------  -----------------------  -----------  ----------------  ---------------------  -------------------------  -------------------\n",
      "      0  2020-07-20-12-18-40  false               none                     short_test   true              amcl                   empty                      false\n",
      "      1  2020-07-18-18-36-45  true                online_predictions       E_tour       true              gmapping               no_tables_wanderer_crowd,  false\n",
      "                                                                                                                                 empty\n",
      "      2  2020-07-17-13-39-30  false               none                     A_tour       true              amcl                   empty                      false\n",
      "      3  2020-07-17-12-47-30  false               none                     A_tour       true              amcl                   empty                      false\n"
     ]
    }
   ],
   "source": [
    "D.list_runs()"
   ]
  },
  {
   "cell_type": "markdown",
   "metadata": {},
   "source": [
    "We can obtain information on a specific run by index or date:"
   ]
  },
  {
   "cell_type": "code",
   "execution_count": 14,
   "metadata": {},
   "outputs": [
    {
     "name": "stdout",
     "output_type": "stream",
     "text": [
      "Name                 Filtering Status    Classification Method    Tour Name    Success Status    Localization Method    Scenarios    Localization Test\n",
      "-------------------  ------------------  -----------------------  -----------  ----------------  ---------------------  -----------  -------------------\n",
      "2020-07-17-12-47-30  false               none                     A_tour       true              amcl                   ['empty']    false\n"
     ]
    }
   ],
   "source": [
    "D.run_info('2020-07-17-12-47-30')"
   ]
  },
  {
   "cell_type": "markdown",
   "metadata": {},
   "source": [
    "Some directories in the experimental folder to not consitute valid runs (malformed or missing data). We can list all folders and their validity."
   ]
  },
  {
   "cell_type": "code",
   "execution_count": 15,
   "metadata": {},
   "outputs": [
    {
     "name": "stdout",
     "output_type": "stream",
     "text": [
      "Name                 Is Valid Run\n",
      "-------------------  --------------\n",
      "2020-07-20-12-18-40  true\n",
      "2020-07-17-13-39-30  true\n",
      "2020-07-18-18-36-45  true\n",
      "2020-07-17-12-47-30  true\n",
      "H_tour_empty_test    false\n",
      "L_tour_test          false\n",
      "F_tour_empty_test    false\n",
      "B_tour_empty_test    false\n",
      "I_tour_empty_test    false\n",
      "A_tour_empty_test    false\n",
      "D_tour_empty_test    false\n",
      "J_tour_empty_test    false\n",
      "G_tour_empty_test    false\n",
      "E_tour_empty_test    false\n",
      "old_directory        false\n",
      "K_tour_empty_test    false\n",
      "C_tour_empty_test    false\n"
     ]
    }
   ],
   "source": [
    "D.list_dirs()"
   ]
  },
  {
   "cell_type": "markdown",
   "metadata": {},
   "source": [
    "Any old directories can be deleted (not without first being prompted for confirmation)."
   ]
  },
  {
   "cell_type": "code",
   "execution_count": 16,
   "metadata": {},
   "outputs": [],
   "source": [
    "#D.remove_dir('old_directory')"
   ]
  },
  {
   "cell_type": "markdown",
   "metadata": {},
   "source": [
    "#### Data Visualization and Analysis\n",
    "In order to visulaize data, first the user must specify what data they want to see. This is done by adding `Series()` objects to the `Dashboard()`. Series represent a set of runs adhering to various characteristics. Currently available characteristics include:\n",
    "- time ranges (earliest date, latest date, exact date)\n",
    "- index ranges (min index, max index, exact index)\n",
    "- filtering status\n",
    "- classification method\n",
    "- tour name\n",
    "- success status\n",
    "- localization method\n",
    "- scenarios present during the test \n",
    "- whether or not the run was a *localization test* or not \n",
    "\n",
    "The user must name the series, and has the option to choose it's colors."
   ]
  },
  {
   "cell_type": "code",
   "execution_count": 21,
   "metadata": {},
   "outputs": [],
   "source": [
    "D.add_series('gmapping', localization_technique='gmapping')\n",
    "D.add_series('amcl', localization_technique = 'amcl')"
   ]
  },
  {
   "cell_type": "markdown",
   "metadata": {},
   "source": [
    "#### List of Current Functions"
   ]
  },
  {
   "cell_type": "code",
   "execution_count": 17,
   "metadata": {},
   "outputs": [
    {
     "data": {
      "text/plain": [
       "\u001b[0;31mInit signature:\u001b[0m \u001b[0mDashboard\u001b[0m\u001b[0;34m(\u001b[0m\u001b[0mself\u001b[0m\u001b[0;34m,\u001b[0m \u001b[0mverbosity\u001b[0m\u001b[0;34m=\u001b[0m\u001b[0;36m20\u001b[0m\u001b[0;34m,\u001b[0m \u001b[0mrows\u001b[0m\u001b[0;34m=\u001b[0m\u001b[0;36m1\u001b[0m\u001b[0;34m,\u001b[0m \u001b[0mcols\u001b[0m\u001b[0;34m=\u001b[0m\u001b[0;36m1\u001b[0m\u001b[0;34m)\u001b[0m\u001b[0;34m\u001b[0m\u001b[0m\n",
       "\u001b[0;31mDocstring:\u001b[0m      An interface between the user and Myhal Simulation data \n",
       "\u001b[0;31mInit docstring:\u001b[0m\n",
       "Optional arguments\n",
       "verbosity: specified the level of logging to STOUT, logging.DEBUG, logging.INFO, logging.WARNING ..., default = logging.INFO\n",
       "rows: the number of rows on the plot display, default = 1\n",
       "cols: the number of columns on the plot display, default = 1\n",
       "\u001b[0;31mFile:\u001b[0m           ~/catkin_ws/src/dashboard/src/run_handler.py\n",
       "\u001b[0;31mType:\u001b[0m           classobj\n"
      ]
     },
     "metadata": {},
     "output_type": "display_data"
    }
   ],
   "source": [
    "Dashboard?"
   ]
  },
  {
   "cell_type": "code",
   "execution_count": 18,
   "metadata": {},
   "outputs": [
    {
     "data": {
      "text/plain": [
       "\u001b[0;31mSignature:\u001b[0m \u001b[0mDashboard\u001b[0m\u001b[0;34m.\u001b[0m\u001b[0mlist_runs\u001b[0m\u001b[0;34m(\u001b[0m\u001b[0mself\u001b[0m\u001b[0;34m,\u001b[0m \u001b[0mnum\u001b[0m\u001b[0;34m=\u001b[0m\u001b[0;36m10\u001b[0m\u001b[0;34m)\u001b[0m\u001b[0;34m\u001b[0m\u001b[0m\n",
       "\u001b[0;31mDocstring:\u001b[0m displays meta data for the num most recent runs \n",
       "\u001b[0;31mFile:\u001b[0m      ~/catkin_ws/src/dashboard/src/run_handler.py\n",
       "\u001b[0;31mType:\u001b[0m      instancemethod\n"
      ]
     },
     "metadata": {},
     "output_type": "display_data"
    }
   ],
   "source": [
    "Dashboard.list_runs?"
   ]
  },
  {
   "cell_type": "code",
   "execution_count": 19,
   "metadata": {},
   "outputs": [
    {
     "data": {
      "text/plain": [
       "\u001b[0;31mSignature:\u001b[0m \u001b[0mDashboard\u001b[0m\u001b[0;34m.\u001b[0m\u001b[0mlist_dirs\u001b[0m\u001b[0;34m(\u001b[0m\u001b[0mself\u001b[0m\u001b[0;34m)\u001b[0m\u001b[0;34m\u001b[0m\u001b[0m\n",
       "\u001b[0;31mDocstring:\u001b[0m list all directories in the experimental folder and whether or not they are a valid run \n",
       "\u001b[0;31mFile:\u001b[0m      ~/catkin_ws/src/dashboard/src/run_handler.py\n",
       "\u001b[0;31mType:\u001b[0m      instancemethod\n"
      ]
     },
     "metadata": {},
     "output_type": "display_data"
    }
   ],
   "source": [
    "Dashboard.list_dirs?"
   ]
  },
  {
   "cell_type": "code",
   "execution_count": 20,
   "metadata": {},
   "outputs": [
    {
     "data": {
      "text/plain": [
       "\u001b[0;31mInit signature:\u001b[0m \u001b[0mPlot\u001b[0m\u001b[0;34m(\u001b[0m\u001b[0mself\u001b[0m\u001b[0;34m,\u001b[0m \u001b[0maggregate\u001b[0m\u001b[0;34m=\u001b[0m\u001b[0mFalse\u001b[0m\u001b[0;34m)\u001b[0m\u001b[0;34m\u001b[0m\u001b[0m\n",
       "\u001b[0;31mDocstring:\u001b[0m      The parent class of all plot types \n",
       "\u001b[0;31mInit docstring:\u001b[0m\n",
       "Optional argument\n",
       "aggregate (bool): if True, the data for all runs in a given series will be averaged, default = False\n",
       "\u001b[0;31mFile:\u001b[0m           ~/catkin_ws/src/dashboard/src/run_handler.py\n",
       "\u001b[0;31mType:\u001b[0m           classobj\n"
      ]
     },
     "metadata": {},
     "output_type": "display_data"
    }
   ],
   "source": [
    "Plot?"
   ]
  },
  {
   "cell_type": "markdown",
   "metadata": {},
   "source": [
    "## Online Classifications \n",
    "Online classifications have been implemented in ROS Noetic and integrated into the existing navigation stack. \n",
    "\n",
    "#### Preliminary Testing \n",
    "While the network is not fully trained, and the code has yet to be optimized for this application, we have gathered some preliminary test results."
   ]
  },
  {
   "cell_type": "code",
   "execution_count": null,
   "metadata": {},
   "outputs": [],
   "source": []
  }
 ],
 "metadata": {
  "kernelspec": {
   "display_name": "Python 2.7.17 64-bit",
   "language": "python",
   "name": "python271764bit8d9ed9946f204d618d3d22a70a8b521b"
  },
  "language_info": {
   "codemirror_mode": {
    "name": "ipython",
    "version": 2
   },
   "file_extension": ".py",
   "mimetype": "text/x-python",
   "name": "python",
   "nbconvert_exporter": "python",
   "pygments_lexer": "ipython2",
   "version": "2.7.17"
  }
 },
 "nbformat": 4,
 "nbformat_minor": 2
}
